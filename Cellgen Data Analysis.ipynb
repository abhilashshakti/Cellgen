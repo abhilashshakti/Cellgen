{
 "cells": [
  {
   "cell_type": "code",
   "execution_count": 1,
   "metadata": {
    "collapsed": true
   },
   "outputs": [],
   "source": [
    "import pandas as pd\n",
    "import matplotlib.pyplot as plt\n",
    "import numpy as np\n",
    "plt.rcParams['figure.figsize'] = [16, 10]\n",
    "import seaborn as sns\n",
    "%matplotlib inline\n",
    "plt.rcParams['axes.unicode_minus'] = False"
   ]
  },
  {
   "cell_type": "code",
   "execution_count": 2,
   "metadata": {
    "collapsed": true
   },
   "outputs": [],
   "source": [
    "# Read the excel sheet\n",
    "df = pd.read_excel('data.xlsx')"
   ]
  },
  {
   "cell_type": "code",
   "execution_count": 3,
   "metadata": {
    "scrolled": true
   },
   "outputs": [
    {
     "data": {
      "text/plain": [
       "(19528, 7)"
      ]
     },
     "execution_count": 3,
     "metadata": {},
     "output_type": "execute_result"
    }
   ],
   "source": [
    "df.shape"
   ]
  },
  {
   "cell_type": "markdown",
   "metadata": {},
   "source": [
    "There are **19528** rows and **7** columns"
   ]
  },
  {
   "cell_type": "code",
   "execution_count": 4,
   "metadata": {
    "scrolled": true
   },
   "outputs": [
    {
     "data": {
      "text/plain": [
       "Index(['Date', 'Slide', 'Target Type', 'Target', 'Median', 'Well SD',\n",
       "       'Well CV'],\n",
       "      dtype='object')"
      ]
     },
     "execution_count": 4,
     "metadata": {},
     "output_type": "execute_result"
    }
   ],
   "source": [
    "df.columns"
   ]
  },
  {
   "cell_type": "markdown",
   "metadata": {},
   "source": [
    "The 7 columns are listed above. We shall be relying mainly on the 'Target Type', 'Target', 'Median', 'Well SD', 'Well CV' columns."
   ]
  },
  {
   "cell_type": "code",
   "execution_count": 5,
   "metadata": {},
   "outputs": [
    {
     "data": {
      "text/html": [
       "<div>\n",
       "<style>\n",
       "    .dataframe thead tr:only-child th {\n",
       "        text-align: right;\n",
       "    }\n",
       "\n",
       "    .dataframe thead th {\n",
       "        text-align: left;\n",
       "    }\n",
       "\n",
       "    .dataframe tbody tr th {\n",
       "        vertical-align: top;\n",
       "    }\n",
       "</style>\n",
       "<table border=\"1\" class=\"dataframe\">\n",
       "  <thead>\n",
       "    <tr style=\"text-align: right;\">\n",
       "      <th></th>\n",
       "      <th>Date</th>\n",
       "      <th>Slide</th>\n",
       "      <th>Target Type</th>\n",
       "      <th>Target</th>\n",
       "      <th>Median</th>\n",
       "      <th>Well SD</th>\n",
       "      <th>Well CV</th>\n",
       "    </tr>\n",
       "  </thead>\n",
       "  <tbody>\n",
       "    <tr>\n",
       "      <th>0</th>\n",
       "      <td>2016.07.27</td>\n",
       "      <td>1</td>\n",
       "      <td>0.1</td>\n",
       "      <td>Cy3 Lbled CT DNA Tgt</td>\n",
       "      <td>981.0</td>\n",
       "      <td>2357.38</td>\n",
       "      <td>1.37</td>\n",
       "    </tr>\n",
       "    <tr>\n",
       "      <th>1</th>\n",
       "      <td>2016.07.27</td>\n",
       "      <td>1</td>\n",
       "      <td>0.1</td>\n",
       "      <td>Cy3 Lbled CT DNA Tgt</td>\n",
       "      <td>1101.0</td>\n",
       "      <td>2243.53</td>\n",
       "      <td>1.15</td>\n",
       "    </tr>\n",
       "    <tr>\n",
       "      <th>2</th>\n",
       "      <td>2016.07.27</td>\n",
       "      <td>1</td>\n",
       "      <td>0.1</td>\n",
       "      <td>Cy3 Lbled CT DNA Tgt</td>\n",
       "      <td>1051.0</td>\n",
       "      <td>1687.48</td>\n",
       "      <td>1.01</td>\n",
       "    </tr>\n",
       "    <tr>\n",
       "      <th>3</th>\n",
       "      <td>2016.07.27</td>\n",
       "      <td>1</td>\n",
       "      <td>0.1</td>\n",
       "      <td>Cy3 Lbled CT DNA Tgt</td>\n",
       "      <td>807.0</td>\n",
       "      <td>2118.96</td>\n",
       "      <td>1.49</td>\n",
       "    </tr>\n",
       "    <tr>\n",
       "      <th>4</th>\n",
       "      <td>2016.07.27</td>\n",
       "      <td>1</td>\n",
       "      <td>1</td>\n",
       "      <td>Cy3 Lbled CT DNA Tgt</td>\n",
       "      <td>493.0</td>\n",
       "      <td>2350.22</td>\n",
       "      <td>1.71</td>\n",
       "    </tr>\n",
       "  </tbody>\n",
       "</table>\n",
       "</div>"
      ],
      "text/plain": [
       "         Date Slide Target Type                Target  Median  Well SD  \\\n",
       "0  2016.07.27     1         0.1  Cy3 Lbled CT DNA Tgt   981.0  2357.38   \n",
       "1  2016.07.27     1         0.1  Cy3 Lbled CT DNA Tgt  1101.0  2243.53   \n",
       "2  2016.07.27     1         0.1  Cy3 Lbled CT DNA Tgt  1051.0  1687.48   \n",
       "3  2016.07.27     1         0.1  Cy3 Lbled CT DNA Tgt   807.0  2118.96   \n",
       "4  2016.07.27     1           1  Cy3 Lbled CT DNA Tgt   493.0  2350.22   \n",
       "\n",
       "   Well CV  \n",
       "0     1.37  \n",
       "1     1.15  \n",
       "2     1.01  \n",
       "3     1.49  \n",
       "4     1.71  "
      ]
     },
     "execution_count": 5,
     "metadata": {},
     "output_type": "execute_result"
    }
   ],
   "source": [
    "df.head()"
   ]
  },
  {
   "cell_type": "code",
   "execution_count": 6,
   "metadata": {
    "collapsed": true
   },
   "outputs": [],
   "source": [
    "df = df.drop(['Date'], axis=1)"
   ]
  },
  {
   "cell_type": "markdown",
   "metadata": {},
   "source": [
    "Dropping the column 'Date' since it is not really relevant for our analysis"
   ]
  },
  {
   "cell_type": "code",
   "execution_count": 7,
   "metadata": {
    "collapsed": true
   },
   "outputs": [],
   "source": [
    "df = df.dropna()"
   ]
  },
  {
   "cell_type": "code",
   "execution_count": 8,
   "metadata": {},
   "outputs": [
    {
     "data": {
      "text/plain": [
       "(19460, 6)"
      ]
     },
     "execution_count": 8,
     "metadata": {},
     "output_type": "execute_result"
    }
   ],
   "source": [
    "df.shape"
   ]
  },
  {
   "cell_type": "markdown",
   "metadata": {},
   "source": [
    "We see that the number of rows have decreased to **19460** (from the initial number of 19528). This is because some of the rows were not defined. Removing those rows."
   ]
  },
  {
   "cell_type": "code",
   "execution_count": 9,
   "metadata": {},
   "outputs": [
    {
     "data": {
      "text/plain": [
       "array(['Cy3 Lbled CT DNA Tgt', 'NTC', 'Unlabeled CT DNA',\n",
       "       'Cy3 Lbled CT RP', 'ATTO 2235_ 2248>AATTC', 'ATTO 2235_ 2249del15',\n",
       "       'ATTO 2236_ 2250del15', 'ATTO 2238_ 2252del15',\n",
       "       'ATTO 2240_ 2257del18', 'ATTO EGFR WT DNA', 'ATTO miR-21 DNA',\n",
       "       'ATTO miR-374a', 'ATTO miR-3913', 'ATTO miR-655', 'ATTO EGFR DNA',\n",
       "       'ATTO miR-21 in Sample1', 'ATTO miR-21 in Sample2',\n",
       "       'ATTO miR-21 in Sample3', 'ATTO miR-21 in Sample4',\n",
       "       'ATTO miR-21 in Sample5', 'ATTO miR-21 in Sample6', 'EGFR WT DNA',\n",
       "       'CT DNA', 'Cy3 CT DNA', 'EWSR DNA', 'CT  DNA', 'COS166 DNA',\n",
       "       'COS168 DNA', 'FLI DNA', 'EGFR DNA', 'COS166 RNA',\n",
       "       'COS166 Lbld DNA', 'Labeled EGFR DNA', 'Labeled miR-21'],\n",
       "      dtype=object)"
      ]
     },
     "execution_count": 9,
     "metadata": {},
     "output_type": "execute_result"
    }
   ],
   "source": [
    "df['Target'].unique()"
   ]
  },
  {
   "cell_type": "code",
   "execution_count": 10,
   "metadata": {},
   "outputs": [
    {
     "data": {
      "text/plain": [
       "34"
      ]
     },
     "execution_count": 10,
     "metadata": {},
     "output_type": "execute_result"
    }
   ],
   "source": [
    "len(df.Target.unique())"
   ]
  },
  {
   "cell_type": "markdown",
   "metadata": {},
   "source": [
    "There are 34 distinct targets in our dataset. These are listed above"
   ]
  },
  {
   "cell_type": "code",
   "execution_count": 11,
   "metadata": {},
   "outputs": [
    {
     "data": {
      "text/plain": [
       "array([0.1, 1, 10, 0, 500, 100, 5, '1-Neg', '5-Neg', 25, '25-Neg', 400,\n",
       "       200, 50, 12.5, 6.25, 3.125, 1.56, 0.78, 1000, 250, 125, 62.5,\n",
       "       31.25, 15.625, 7.813, 3.906, 1.953, 1.563, 0.781, 0.391, 0.195,\n",
       "       0.098, 0.049, 0.024, '10-Neg', 0.01, 0.001, 0.0001, 1e-05],\n",
       "      dtype=object)"
      ]
     },
     "execution_count": 11,
     "metadata": {},
     "output_type": "execute_result"
    }
   ],
   "source": [
    "df['Target Type'].unique()"
   ]
  },
  {
   "cell_type": "code",
   "execution_count": 12,
   "metadata": {},
   "outputs": [
    {
     "data": {
      "text/plain": [
       "40"
      ]
     },
     "execution_count": 12,
     "metadata": {},
     "output_type": "execute_result"
    }
   ],
   "source": [
    "len(df['Target Type'].unique())"
   ]
  },
  {
   "cell_type": "markdown",
   "metadata": {},
   "source": [
    "There are 40 distinct Target Types in our dataset. These are listed above. These are the numerical values associated with each Target."
   ]
  },
  {
   "cell_type": "code",
   "execution_count": 13,
   "metadata": {
    "collapsed": true
   },
   "outputs": [],
   "source": [
    "df_n = df[df['Target Type'].str.contains('Neg') == True]"
   ]
  },
  {
   "cell_type": "code",
   "execution_count": 14,
   "metadata": {
    "collapsed": true
   },
   "outputs": [],
   "source": [
    "df_noise = df[df['Target Type'] == 0]"
   ]
  },
  {
   "cell_type": "code",
   "execution_count": 15,
   "metadata": {
    "collapsed": true
   },
   "outputs": [],
   "source": [
    "df_p = pd.concat([df, df_n]).drop_duplicates(keep=False)\n",
    "df_p = pd.concat([df_p, df_noise]).drop_duplicates(keep=False)"
   ]
  },
  {
   "cell_type": "code",
   "execution_count": 16,
   "metadata": {},
   "outputs": [
    {
     "name": "stdout",
     "output_type": "stream",
     "text": [
      "(11419, 6) (6640, 6) (1401, 6)\n"
     ]
    }
   ],
   "source": [
    "print(df_p.shape, df_n.shape, df_noise.shape)"
   ]
  },
  {
   "cell_type": "markdown",
   "metadata": {},
   "source": [
    "Segregated the values into 3 categories:\n",
    "- *df_p represents* the positive values\n",
    "- *df_n represents* the negative values\n",
    "- *df_noise respresents* the background (0) values\n",
    "\n",
    "Each of these dataframes contain all the 6 columns"
   ]
  },
  {
   "cell_type": "markdown",
   "metadata": {},
   "source": [
    "### Data Visualization"
   ]
  },
  {
   "cell_type": "markdown",
   "metadata": {},
   "source": [
    "We shall start by visualizing the entries for *df_p* (the positive values in our dataset)."
   ]
  },
  {
   "cell_type": "code",
   "execution_count": 17,
   "metadata": {},
   "outputs": [
    {
     "data": {
      "text/html": [
       "<div>\n",
       "<style>\n",
       "    .dataframe thead tr:only-child th {\n",
       "        text-align: right;\n",
       "    }\n",
       "\n",
       "    .dataframe thead th {\n",
       "        text-align: left;\n",
       "    }\n",
       "\n",
       "    .dataframe tbody tr th {\n",
       "        vertical-align: top;\n",
       "    }\n",
       "</style>\n",
       "<table border=\"1\" class=\"dataframe\">\n",
       "  <thead>\n",
       "    <tr style=\"text-align: right;\">\n",
       "      <th></th>\n",
       "      <th>Median</th>\n",
       "      <th>Well SD</th>\n",
       "      <th>Well CV</th>\n",
       "    </tr>\n",
       "  </thead>\n",
       "  <tbody>\n",
       "    <tr>\n",
       "      <th>count</th>\n",
       "      <td>11419.000000</td>\n",
       "      <td>11419.000000</td>\n",
       "      <td>11419.000000</td>\n",
       "    </tr>\n",
       "    <tr>\n",
       "      <th>mean</th>\n",
       "      <td>12846.689290</td>\n",
       "      <td>4204.215831</td>\n",
       "      <td>0.634027</td>\n",
       "    </tr>\n",
       "    <tr>\n",
       "      <th>std</th>\n",
       "      <td>15494.054248</td>\n",
       "      <td>4327.593552</td>\n",
       "      <td>0.837670</td>\n",
       "    </tr>\n",
       "    <tr>\n",
       "      <th>min</th>\n",
       "      <td>0.000000</td>\n",
       "      <td>0.000000</td>\n",
       "      <td>0.000000</td>\n",
       "    </tr>\n",
       "    <tr>\n",
       "      <th>25%</th>\n",
       "      <td>1783.000000</td>\n",
       "      <td>1110.000000</td>\n",
       "      <td>0.270000</td>\n",
       "    </tr>\n",
       "    <tr>\n",
       "      <th>50%</th>\n",
       "      <td>7159.000000</td>\n",
       "      <td>2788.740000</td>\n",
       "      <td>0.390000</td>\n",
       "    </tr>\n",
       "    <tr>\n",
       "      <th>75%</th>\n",
       "      <td>17817.000000</td>\n",
       "      <td>5904.565000</td>\n",
       "      <td>0.630000</td>\n",
       "    </tr>\n",
       "    <tr>\n",
       "      <th>max</th>\n",
       "      <td>65535.000000</td>\n",
       "      <td>29599.020000</td>\n",
       "      <td>23.910000</td>\n",
       "    </tr>\n",
       "  </tbody>\n",
       "</table>\n",
       "</div>"
      ],
      "text/plain": [
       "             Median       Well SD       Well CV\n",
       "count  11419.000000  11419.000000  11419.000000\n",
       "mean   12846.689290   4204.215831      0.634027\n",
       "std    15494.054248   4327.593552      0.837670\n",
       "min        0.000000      0.000000      0.000000\n",
       "25%     1783.000000   1110.000000      0.270000\n",
       "50%     7159.000000   2788.740000      0.390000\n",
       "75%    17817.000000   5904.565000      0.630000\n",
       "max    65535.000000  29599.020000     23.910000"
      ]
     },
     "execution_count": 17,
     "metadata": {},
     "output_type": "execute_result"
    }
   ],
   "source": [
    "df_p.describe()"
   ]
  },
  {
   "cell_type": "code",
   "execution_count": 18,
   "metadata": {
    "scrolled": true
   },
   "outputs": [
    {
     "data": {
      "image/png": "[encoded data removed]",
      "text/plain": [
       "<matplotlib.figure.Figure at 0x1a18d714e0>"
      ]
     },
     "metadata": {},
     "output_type": "display_data"
    }
   ],
   "source": [
    "plt.plot(df_p['Median'])\n",
    "plt.xlabel('Index of the positive entries')\n",
    "plt.ylabel('Median values')\n",
    "plt.show()"
   ]
  },
  {
   "cell_type": "markdown",
   "metadata": {},
   "source": [
    "Simply plotting the \"Median\" values for our positive entries does not convey anything useful."
   ]
  },
  {
   "cell_type": "code",
   "execution_count": 19,
   "metadata": {},
   "outputs": [
    {
     "data": {
      "image/png": "[encoded data removed]",
      "text/plain": [
       "<matplotlib.figure.Figure at 0x1a18611470>"
      ]
     },
     "metadata": {},
     "output_type": "display_data"
    }
   ],
   "source": [
    "plt.hist(np.log(df_p['Median'] + 1), bins=100)\n",
    "plt.xlabel('log(Median) for positive values')\n",
    "plt.ylabel('Count')\n",
    "plt.show()"
   ]
  },
  {
   "cell_type": "markdown",
   "metadata": {},
   "source": [
    "The histogram above divides the log(Median) values into frequencies. We're using log(Median) instead of simple Median because binning is \n",
    "easily visualized. The histogram clearly shows that most of the values are observed between 4 and 11.\n",
    "There are other interesting conclusions which can be drawn from this histogram such as:\n",
    "    1. A spike is observed at the end, ie: most of the values lie in the end bin (close to 400).\n",
    "    2. The plot is not exactly a normal distribution (which is usually the case with most datasets).\n"
   ]
  },
  {
   "cell_type": "code",
   "execution_count": 20,
   "metadata": {
    "collapsed": true
   },
   "outputs": [],
   "source": [
    "df_p['Log Median'] = np.log(df_p['Median'] + 1)"
   ]
  },
  {
   "cell_type": "markdown",
   "metadata": {},
   "source": [
    "Adding an additional column 'Log Median' for our future analysis."
   ]
  },
  {
   "cell_type": "code",
   "execution_count": 21,
   "metadata": {
    "collapsed": true
   },
   "outputs": [],
   "source": [
    "df_p_group = df_p.groupby(['Target']).mean()"
   ]
  },
  {
   "cell_type": "code",
   "execution_count": 22,
   "metadata": {
    "scrolled": false
   },
   "outputs": [
    {
     "data": {
      "text/html": [
       "<div>\n",
       "<style>\n",
       "    .dataframe thead tr:only-child th {\n",
       "        text-align: right;\n",
       "    }\n",
       "\n",
       "    .dataframe thead th {\n",
       "        text-align: left;\n",
       "    }\n",
       "\n",
       "    .dataframe tbody tr th {\n",
       "        vertical-align: top;\n",
       "    }\n",
       "</style>\n",
       "<table border=\"1\" class=\"dataframe\">\n",
       "  <thead>\n",
       "    <tr style=\"text-align: right;\">\n",
       "      <th></th>\n",
       "      <th>Median</th>\n",
       "      <th>Well SD</th>\n",
       "      <th>Well CV</th>\n",
       "      <th>Log Median</th>\n",
       "    </tr>\n",
       "    <tr>\n",
       "      <th>Target</th>\n",
       "      <th></th>\n",
       "      <th></th>\n",
       "      <th></th>\n",
       "      <th></th>\n",
       "    </tr>\n",
       "  </thead>\n",
       "  <tbody>\n",
       "    <tr>\n",
       "      <th>ATTO 2235_ 2248&gt;AATTC</th>\n",
       "      <td>2295.507143</td>\n",
       "      <td>1349.822143</td>\n",
       "      <td>0.668429</td>\n",
       "      <td>7.008123</td>\n",
       "    </tr>\n",
       "    <tr>\n",
       "      <th>ATTO 2235_ 2249del15</th>\n",
       "      <td>2061.342857</td>\n",
       "      <td>1096.106286</td>\n",
       "      <td>0.766286</td>\n",
       "      <td>6.663788</td>\n",
       "    </tr>\n",
       "    <tr>\n",
       "      <th>ATTO 2236_ 2250del15</th>\n",
       "      <td>2424.442857</td>\n",
       "      <td>1677.321714</td>\n",
       "      <td>0.798429</td>\n",
       "      <td>7.079886</td>\n",
       "    </tr>\n",
       "    <tr>\n",
       "      <th>ATTO 2238_ 2252del15</th>\n",
       "      <td>2413.507143</td>\n",
       "      <td>1185.294286</td>\n",
       "      <td>0.508571</td>\n",
       "      <td>7.580657</td>\n",
       "    </tr>\n",
       "    <tr>\n",
       "      <th>ATTO 2240_ 2257del18</th>\n",
       "      <td>2718.921429</td>\n",
       "      <td>1447.479143</td>\n",
       "      <td>0.592429</td>\n",
       "      <td>7.559618</td>\n",
       "    </tr>\n",
       "    <tr>\n",
       "      <th>ATTO EGFR WT DNA</th>\n",
       "      <td>14003.847174</td>\n",
       "      <td>6203.508143</td>\n",
       "      <td>0.543666</td>\n",
       "      <td>9.005142</td>\n",
       "    </tr>\n",
       "    <tr>\n",
       "      <th>ATTO miR-21 DNA</th>\n",
       "      <td>9687.879524</td>\n",
       "      <td>3452.982358</td>\n",
       "      <td>0.602771</td>\n",
       "      <td>8.010026</td>\n",
       "    </tr>\n",
       "    <tr>\n",
       "      <th>ATTO miR-21 in Sample1</th>\n",
       "      <td>19426.895833</td>\n",
       "      <td>6580.737500</td>\n",
       "      <td>0.365417</td>\n",
       "      <td>9.820974</td>\n",
       "    </tr>\n",
       "    <tr>\n",
       "      <th>ATTO miR-21 in Sample2</th>\n",
       "      <td>20099.354167</td>\n",
       "      <td>6823.163750</td>\n",
       "      <td>0.363750</td>\n",
       "      <td>9.841291</td>\n",
       "    </tr>\n",
       "    <tr>\n",
       "      <th>ATTO miR-21 in Sample3</th>\n",
       "      <td>21000.833333</td>\n",
       "      <td>7442.622500</td>\n",
       "      <td>0.367083</td>\n",
       "      <td>9.894120</td>\n",
       "    </tr>\n",
       "    <tr>\n",
       "      <th>ATTO miR-21 in Sample4</th>\n",
       "      <td>23137.291667</td>\n",
       "      <td>8214.414583</td>\n",
       "      <td>0.369583</td>\n",
       "      <td>9.990971</td>\n",
       "    </tr>\n",
       "    <tr>\n",
       "      <th>ATTO miR-21 in Sample5</th>\n",
       "      <td>24410.125000</td>\n",
       "      <td>9309.544167</td>\n",
       "      <td>0.389583</td>\n",
       "      <td>10.055694</td>\n",
       "    </tr>\n",
       "    <tr>\n",
       "      <th>ATTO miR-21 in Sample6</th>\n",
       "      <td>24055.333333</td>\n",
       "      <td>8341.140000</td>\n",
       "      <td>0.364167</td>\n",
       "      <td>10.047078</td>\n",
       "    </tr>\n",
       "    <tr>\n",
       "      <th>ATTO miR-374a</th>\n",
       "      <td>69.992188</td>\n",
       "      <td>375.609375</td>\n",
       "      <td>1.823906</td>\n",
       "      <td>3.916127</td>\n",
       "    </tr>\n",
       "    <tr>\n",
       "      <th>ATTO miR-3913</th>\n",
       "      <td>49.218750</td>\n",
       "      <td>1278.588750</td>\n",
       "      <td>4.185625</td>\n",
       "      <td>3.829294</td>\n",
       "    </tr>\n",
       "    <tr>\n",
       "      <th>ATTO miR-655</th>\n",
       "      <td>37.953125</td>\n",
       "      <td>275.973594</td>\n",
       "      <td>2.223594</td>\n",
       "      <td>3.322773</td>\n",
       "    </tr>\n",
       "    <tr>\n",
       "      <th>COS166 DNA</th>\n",
       "      <td>10153.238170</td>\n",
       "      <td>2678.748408</td>\n",
       "      <td>0.532886</td>\n",
       "      <td>8.399752</td>\n",
       "    </tr>\n",
       "    <tr>\n",
       "      <th>COS166 Lbld DNA</th>\n",
       "      <td>25.546875</td>\n",
       "      <td>54.708125</td>\n",
       "      <td>1.279375</td>\n",
       "      <td>2.899302</td>\n",
       "    </tr>\n",
       "    <tr>\n",
       "      <th>COS166 RNA</th>\n",
       "      <td>332.281250</td>\n",
       "      <td>1272.335859</td>\n",
       "      <td>1.453203</td>\n",
       "      <td>5.346469</td>\n",
       "    </tr>\n",
       "    <tr>\n",
       "      <th>COS168 DNA</th>\n",
       "      <td>11007.187500</td>\n",
       "      <td>3308.191094</td>\n",
       "      <td>0.330000</td>\n",
       "      <td>9.143951</td>\n",
       "    </tr>\n",
       "    <tr>\n",
       "      <th>CT DNA</th>\n",
       "      <td>9165.515625</td>\n",
       "      <td>3639.553281</td>\n",
       "      <td>0.443945</td>\n",
       "      <td>8.926802</td>\n",
       "    </tr>\n",
       "    <tr>\n",
       "      <th>Cy3 Lbled CT DNA Tgt</th>\n",
       "      <td>2553.174645</td>\n",
       "      <td>2692.261667</td>\n",
       "      <td>1.579202</td>\n",
       "      <td>6.720077</td>\n",
       "    </tr>\n",
       "    <tr>\n",
       "      <th>EGFR DNA</th>\n",
       "      <td>17685.586341</td>\n",
       "      <td>4119.800672</td>\n",
       "      <td>0.360219</td>\n",
       "      <td>9.088202</td>\n",
       "    </tr>\n",
       "    <tr>\n",
       "      <th>EGFR WT DNA</th>\n",
       "      <td>22749.968226</td>\n",
       "      <td>6902.828820</td>\n",
       "      <td>0.615384</td>\n",
       "      <td>8.942147</td>\n",
       "    </tr>\n",
       "    <tr>\n",
       "      <th>EWSR DNA</th>\n",
       "      <td>36401.523810</td>\n",
       "      <td>6812.744762</td>\n",
       "      <td>0.231587</td>\n",
       "      <td>10.332286</td>\n",
       "    </tr>\n",
       "    <tr>\n",
       "      <th>FLI DNA</th>\n",
       "      <td>25980.921875</td>\n",
       "      <td>6969.388750</td>\n",
       "      <td>0.312656</td>\n",
       "      <td>9.925360</td>\n",
       "    </tr>\n",
       "    <tr>\n",
       "      <th>Labeled EGFR DNA</th>\n",
       "      <td>19084.034091</td>\n",
       "      <td>6463.442765</td>\n",
       "      <td>0.330492</td>\n",
       "      <td>9.376001</td>\n",
       "    </tr>\n",
       "    <tr>\n",
       "      <th>NTC</th>\n",
       "      <td>4376.250000</td>\n",
       "      <td>2524.357500</td>\n",
       "      <td>0.540000</td>\n",
       "      <td>8.254492</td>\n",
       "    </tr>\n",
       "    <tr>\n",
       "      <th>Unlabeled CT DNA</th>\n",
       "      <td>13117.125000</td>\n",
       "      <td>5108.601250</td>\n",
       "      <td>0.449271</td>\n",
       "      <td>9.318289</td>\n",
       "    </tr>\n",
       "  </tbody>\n",
       "</table>\n",
       "</div>"
      ],
      "text/plain": [
       "                              Median      Well SD   Well CV  Log Median\n",
       "Target                                                                 \n",
       "ATTO 2235_ 2248>AATTC    2295.507143  1349.822143  0.668429    7.008123\n",
       "ATTO 2235_ 2249del15     2061.342857  1096.106286  0.766286    6.663788\n",
       "ATTO 2236_ 2250del15     2424.442857  1677.321714  0.798429    7.079886\n",
       "ATTO 2238_ 2252del15     2413.507143  1185.294286  0.508571    7.580657\n",
       "ATTO 2240_ 2257del18     2718.921429  1447.479143  0.592429    7.559618\n",
       "ATTO EGFR WT DNA        14003.847174  6203.508143  0.543666    9.005142\n",
       "ATTO miR-21 DNA          9687.879524  3452.982358  0.602771    8.010026\n",
       "ATTO miR-21 in Sample1  19426.895833  6580.737500  0.365417    9.820974\n",
       "ATTO miR-21 in Sample2  20099.354167  6823.163750  0.363750    9.841291\n",
       "ATTO miR-21 in Sample3  21000.833333  7442.622500  0.367083    9.894120\n",
       "ATTO miR-21 in Sample4  23137.291667  8214.414583  0.369583    9.990971\n",
       "ATTO miR-21 in Sample5  24410.125000  9309.544167  0.389583   10.055694\n",
       "ATTO miR-21 in Sample6  24055.333333  8341.140000  0.364167   10.047078\n",
       "ATTO miR-374a              69.992188   375.609375  1.823906    3.916127\n",
       "ATTO miR-3913              49.218750  1278.588750  4.185625    3.829294\n",
       "ATTO miR-655               37.953125   275.973594  2.223594    3.322773\n",
       "COS166 DNA              10153.238170  2678.748408  0.532886    8.399752\n",
       "COS166 Lbld DNA            25.546875    54.708125  1.279375    2.899302\n",
       "COS166 RNA                332.281250  1272.335859  1.453203    5.346469\n",
       "COS168 DNA              11007.187500  3308.191094  0.330000    9.143951\n",
       "CT DNA                   9165.515625  3639.553281  0.443945    8.926802\n",
       "Cy3 Lbled CT DNA Tgt     2553.174645  2692.261667  1.579202    6.720077\n",
       "EGFR DNA                17685.586341  4119.800672  0.360219    9.088202\n",
       "EGFR WT DNA             22749.968226  6902.828820  0.615384    8.942147\n",
       "EWSR DNA                36401.523810  6812.744762  0.231587   10.332286\n",
       "FLI DNA                 25980.921875  6969.388750  0.312656    9.925360\n",
       "Labeled EGFR DNA        19084.034091  6463.442765  0.330492    9.376001\n",
       "NTC                      4376.250000  2524.357500  0.540000    8.254492\n",
       "Unlabeled CT DNA        13117.125000  5108.601250  0.449271    9.318289"
      ]
     },
     "execution_count": 22,
     "metadata": {},
     "output_type": "execute_result"
    }
   ],
   "source": [
    "df_p_group"
   ]
  },
  {
   "cell_type": "markdown",
   "metadata": {},
   "source": [
    "The values above are the 'Average' values for the different Target types we have. This action is performed for the columns 'Median', 'Well SD', 'Well CV', 'Log Median'.\n",
    "Let's plot these values!!"
   ]
  },
  {
   "cell_type": "code",
   "execution_count": 23,
   "metadata": {
    "scrolled": true
   },
   "outputs": [
    {
     "data": {
      "text/plain": [
       "<matplotlib.text.Text at 0x1a186413c8>"
      ]
     },
     "execution_count": 23,
     "metadata": {},
     "output_type": "execute_result"
    },
    {
     "data": {
      "image/png": "[encoded data removed]",
      "text/plain": [
       "<matplotlib.figure.Figure at 0x1a18cfcac8>"
      ]
     },
     "metadata": {},
     "output_type": "display_data"
    }
   ],
   "source": [
    "plt.rcParams['figure.figsize'] = [20,10]\n",
    "df_p_group.plot(kind='bar')\n",
    "plt.xlabel('Target types')\n",
    "plt.ylabel('Average values')"
   ]
  },
  {
   "cell_type": "markdown",
   "metadata": {},
   "source": [
    "The plot above shows the 'Median', 'Well SD', 'Well CV' and 'Log Median' values for each of the Target types in our positive entries. In this plot 'Well CV' and 'Log Median' is not clearly visible, which we shall look into individually. \\\n",
    "This plot has intesting distribution observations about our dataset."
   ]
  },
  {
   "cell_type": "code",
   "execution_count": 24,
   "metadata": {
    "scrolled": true
   },
   "outputs": [
    {
     "data": {
      "text/plain": [
       "<matplotlib.text.Text at 0x1a18cabeb8>"
      ]
     },
     "execution_count": 24,
     "metadata": {},
     "output_type": "execute_result"
    },
    {
     "data": {
      "image/png": "[encoded data removed]",
      "text/plain": [
       "<matplotlib.figure.Figure at 0x1a18d9d9e8>"
      ]
     },
     "metadata": {},
     "output_type": "display_data"
    }
   ],
   "source": [
    "plt.rcParams['figure.figsize'] = [20,10]\n",
    "df_p_group['Log Median'].plot(kind='bar')\n",
    "plt.xlabel('Target types')\n",
    "plt.ylabel('Average Log(Median)')"
   ]
  },
  {
   "cell_type": "markdown",
   "metadata": {},
   "source": [
    "Zooming in to just the Log(Median) values for the positive entries in our dataset."
   ]
  },
  {
   "cell_type": "code",
   "execution_count": null,
   "metadata": {
    "collapsed": true
   },
   "outputs": [],
   "source": []
  }
 ],
 "metadata": {
  "kernelspec": {
   "display_name": "Python 3",
   "language": "python",
   "name": "python3"
  },
  "language_info": {
   "codemirror_mode": {
    "name": "ipython",
    "version": 3
   },
   "file_extension": ".py",
   "mimetype": "text/x-python",
   "name": "python",
   "nbconvert_exporter": "python",
   "pygments_lexer": "ipython3",
   "version": "3.6.1"
  }
 },
 "nbformat": 4,
 "nbformat_minor": 2
}
